{
 "cells": [
  {
   "cell_type": "code",
   "execution_count": 1,
   "id": "initial_id",
   "metadata": {
    "collapsed": true,
    "ExecuteTime": {
     "end_time": "2024-12-10T09:31:41.846996100Z",
     "start_time": "2024-12-10T09:31:41.813275200Z"
    }
   },
   "outputs": [],
   "source": [
    "from peewee import *\n",
    "\n",
    "db = SqliteDatabase('people.db')\n",
    "\n",
    "class Person(Model):\n",
    "    name = CharField()\n",
    "    birthday = DateField()\n",
    "\n",
    "    class Meta:\n",
    "        database = db # This model uses the \"people.db\" database."
   ]
  },
  {
   "cell_type": "code",
   "execution_count": 2,
   "outputs": [],
   "source": [
    "class Pet(Model):\n",
    "    owner = ForeignKeyField(Person, backref='pets')\n",
    "    name = CharField()\n",
    "    animal_type = CharField()\n",
    "\n",
    "    class Meta:\n",
    "        database = db # this model uses the \"people.db\" database"
   ],
   "metadata": {
    "collapsed": false,
    "ExecuteTime": {
     "end_time": "2024-12-10T09:31:44.817793Z",
     "start_time": "2024-12-10T09:31:44.584045700Z"
    }
   },
   "id": "d91fb6c0013fcca"
  },
  {
   "cell_type": "code",
   "execution_count": 3,
   "outputs": [
    {
     "ename": "OperationalError",
     "evalue": "Connection already opened.",
     "output_type": "error",
     "traceback": [
      "\u001B[1;31m---------------------------------------------------------------------------\u001B[0m",
      "\u001B[1;31mOperationalError\u001B[0m                          Traceback (most recent call last)",
      "Cell \u001B[1;32mIn[3], line 1\u001B[0m\n\u001B[1;32m----> 1\u001B[0m \u001B[43mdb\u001B[49m\u001B[38;5;241;43m.\u001B[39;49m\u001B[43mconnect\u001B[49m\u001B[43m(\u001B[49m\u001B[43m)\u001B[49m\n",
      "File \u001B[1;32mD:\\server\\anaconda\\envs\\peewee_env\\lib\\site-packages\\peewee.py:3259\u001B[0m, in \u001B[0;36mDatabase.connect\u001B[1;34m(self, reuse_if_open)\u001B[0m\n\u001B[0;32m   3257\u001B[0m     \u001B[38;5;28;01mif\u001B[39;00m reuse_if_open:\n\u001B[0;32m   3258\u001B[0m         \u001B[38;5;28;01mreturn\u001B[39;00m \u001B[38;5;28;01mFalse\u001B[39;00m\n\u001B[1;32m-> 3259\u001B[0m     \u001B[38;5;28;01mraise\u001B[39;00m OperationalError(\u001B[38;5;124m'\u001B[39m\u001B[38;5;124mConnection already opened.\u001B[39m\u001B[38;5;124m'\u001B[39m)\n\u001B[0;32m   3261\u001B[0m \u001B[38;5;28mself\u001B[39m\u001B[38;5;241m.\u001B[39m_state\u001B[38;5;241m.\u001B[39mreset()\n\u001B[0;32m   3262\u001B[0m \u001B[38;5;28;01mwith\u001B[39;00m __exception_wrapper__:\n",
      "\u001B[1;31mOperationalError\u001B[0m: Connection already opened."
     ]
    }
   ],
   "source": [
    "db.connect()"
   ],
   "metadata": {
    "collapsed": false,
    "ExecuteTime": {
     "end_time": "2024-12-10T09:31:48.196040800Z",
     "start_time": "2024-12-10T09:31:46.333922400Z"
    }
   },
   "id": "f508697f94c0f905"
  },
  {
   "cell_type": "code",
   "execution_count": 5,
   "outputs": [],
   "source": [
    "db.create_tables([Person, Pet])"
   ],
   "metadata": {
    "collapsed": false,
    "ExecuteTime": {
     "end_time": "2024-12-10T09:32:41.287374600Z",
     "start_time": "2024-12-10T09:32:41.267989800Z"
    }
   },
   "id": "a582e4bb4940a428"
  },
  {
   "cell_type": "code",
   "execution_count": 6,
   "outputs": [
    {
     "data": {
      "text/plain": "1"
     },
     "execution_count": 6,
     "metadata": {},
     "output_type": "execute_result"
    }
   ],
   "source": [
    "from datetime import date\n",
    "uncle_bob = Person(name='Bob', birthday=date(1960, 1, 15))\n",
    "uncle_bob.save() # bob is now stored in the database\n",
    "# Returns: 1"
   ],
   "metadata": {
    "collapsed": false,
    "ExecuteTime": {
     "end_time": "2024-12-10T09:33:28.801964300Z",
     "start_time": "2024-12-10T09:33:28.762713Z"
    }
   },
   "id": "e462d0fc679d7853"
  },
  {
   "cell_type": "code",
   "execution_count": 7,
   "outputs": [],
   "source": [
    "grandma = Person.create(name='Grandma', birthday=date(1935, 3, 1))\n",
    "herb = Person.create(name='Herb', birthday=date(1950, 5, 5))"
   ],
   "metadata": {
    "collapsed": false,
    "ExecuteTime": {
     "end_time": "2024-12-10T09:33:34.243242Z",
     "start_time": "2024-12-10T09:33:34.228243100Z"
    }
   },
   "id": "ad5e7ce140952c8b"
  },
  {
   "cell_type": "code",
   "execution_count": 8,
   "outputs": [
    {
     "data": {
      "text/plain": "1"
     },
     "execution_count": 8,
     "metadata": {},
     "output_type": "execute_result"
    }
   ],
   "source": [
    "grandma.name = 'Grandma L.'\n",
    "grandma.save()  # Update grandma's name in the database.\n",
    "# Returns: 1"
   ],
   "metadata": {
    "collapsed": false,
    "ExecuteTime": {
     "end_time": "2024-12-10T09:34:11.607261400Z",
     "start_time": "2024-12-10T09:34:11.590579Z"
    }
   },
   "id": "a2378e5cacb24848"
  },
  {
   "cell_type": "code",
   "execution_count": 9,
   "outputs": [],
   "source": [
    "bob_kitty = Pet.create(owner=uncle_bob, name='Kitty', animal_type='cat')\n",
    "herb_fido = Pet.create(owner=herb, name='Fido', animal_type='dog')\n",
    "herb_mittens = Pet.create(owner=herb, name='Mittens', animal_type='cat')\n",
    "herb_mittens_jr = Pet.create(owner=herb, name='Mittens Jr', animal_type='cat')"
   ],
   "metadata": {
    "collapsed": false,
    "ExecuteTime": {
     "end_time": "2024-12-10T09:34:20.639563800Z",
     "start_time": "2024-12-10T09:34:20.613365900Z"
    }
   },
   "id": "598784e6f5478615"
  },
  {
   "cell_type": "code",
   "execution_count": 10,
   "outputs": [
    {
     "data": {
      "text/plain": "1"
     },
     "execution_count": 10,
     "metadata": {},
     "output_type": "execute_result"
    }
   ],
   "source": [
    "herb_mittens.delete_instance() # he had a great life\n",
    "# Returns: 1"
   ],
   "metadata": {
    "collapsed": false,
    "ExecuteTime": {
     "end_time": "2024-12-10T09:34:39.198008400Z",
     "start_time": "2024-12-10T09:34:39.177366900Z"
    }
   },
   "id": "4890fdfc81a4c62d"
  },
  {
   "cell_type": "code",
   "execution_count": 11,
   "outputs": [
    {
     "data": {
      "text/plain": "1"
     },
     "execution_count": 11,
     "metadata": {},
     "output_type": "execute_result"
    }
   ],
   "source": [
    "herb_fido.owner = uncle_bob\n",
    "herb_fido.save()"
   ],
   "metadata": {
    "collapsed": false,
    "ExecuteTime": {
     "end_time": "2024-12-10T09:34:49.791828600Z",
     "start_time": "2024-12-10T09:34:49.777833Z"
    }
   },
   "id": "88300387fe3be6d0"
  },
  {
   "cell_type": "code",
   "execution_count": 12,
   "outputs": [],
   "source": [
    "grandma = Person.select().where(Person.name == 'Grandma L.').get()"
   ],
   "metadata": {
    "collapsed": false,
    "ExecuteTime": {
     "end_time": "2024-12-10T09:35:58.308439200Z",
     "start_time": "2024-12-10T09:35:58.293854400Z"
    }
   },
   "id": "2a649a5c1937ebb9"
  },
  {
   "cell_type": "code",
   "execution_count": 14,
   "outputs": [
    {
     "data": {
      "text/plain": "('Grandma L.', datetime.date(1935, 3, 1))"
     },
     "execution_count": 14,
     "metadata": {},
     "output_type": "execute_result"
    }
   ],
   "source": [
    "grandma.name, grandma.birthday"
   ],
   "metadata": {
    "collapsed": false,
    "ExecuteTime": {
     "end_time": "2024-12-10T09:36:37.881410300Z",
     "start_time": "2024-12-10T09:36:37.868395900Z"
    }
   },
   "id": "25c02d9e90c66806"
  },
  {
   "cell_type": "code",
   "execution_count": 15,
   "outputs": [],
   "source": [
    "grandma = Person.get(Person.name == 'Grandma L.')"
   ],
   "metadata": {
    "collapsed": false,
    "ExecuteTime": {
     "end_time": "2024-12-10T09:37:53.864283700Z",
     "start_time": "2024-12-10T09:37:53.855301600Z"
    }
   },
   "id": "8a9a8be963df7b93"
  },
  {
   "cell_type": "code",
   "execution_count": 18,
   "outputs": [
    {
     "data": {
      "text/plain": "('Grandma L.', '1935-03-01')"
     },
     "execution_count": 18,
     "metadata": {},
     "output_type": "execute_result"
    }
   ],
   "source": [
    "grandma.name, grandma.birthday.strftime(\"%Y-%m-%d\")"
   ],
   "metadata": {
    "collapsed": false,
    "ExecuteTime": {
     "end_time": "2024-12-10T09:38:57.484092800Z",
     "start_time": "2024-12-10T09:38:57.470066300Z"
    }
   },
   "id": "40b59f89b268f45b"
  },
  {
   "cell_type": "code",
   "execution_count": 19,
   "outputs": [
    {
     "name": "stdout",
     "output_type": "stream",
     "text": [
      "Bob\n",
      "Grandma L.\n",
      "Herb\n"
     ]
    }
   ],
   "source": [
    "for person in Person.select():\n",
    "    print(person.name)"
   ],
   "metadata": {
    "collapsed": false,
    "ExecuteTime": {
     "end_time": "2024-12-10T09:39:08.812879300Z",
     "start_time": "2024-12-10T09:39:08.806477800Z"
    }
   },
   "id": "15eef8b1858f1e4a"
  },
  {
   "cell_type": "code",
   "execution_count": 20,
   "outputs": [
    {
     "name": "stdout",
     "output_type": "stream",
     "text": [
      "Kitty Bob\n",
      "Mittens Jr Herb\n"
     ]
    }
   ],
   "source": [
    "query = Pet.select().where(Pet.animal_type == 'cat')\n",
    "for pet in query:\n",
    "    print(pet.name, pet.owner.name)"
   ],
   "metadata": {
    "collapsed": false,
    "ExecuteTime": {
     "end_time": "2024-12-10T09:39:15.435570800Z",
     "start_time": "2024-12-10T09:39:15.425971700Z"
    }
   },
   "id": "fb32fb2c63b51969"
  },
  {
   "cell_type": "code",
   "execution_count": 21,
   "outputs": [
    {
     "name": "stdout",
     "output_type": "stream",
     "text": [
      "Kitty Bob\n",
      "Mittens Jr Herb\n"
     ]
    }
   ],
   "source": [
    "query = (Pet\n",
    "         .select(Pet, Person)\n",
    "         .join(Person)\n",
    "         .where(Pet.animal_type == 'cat'))\n",
    "\n",
    "for pet in query:\n",
    "    print(pet.name, pet.owner.name)"
   ],
   "metadata": {
    "collapsed": false,
    "ExecuteTime": {
     "end_time": "2024-12-10T09:40:40.021820100Z",
     "start_time": "2024-12-10T09:40:40.013067100Z"
    }
   },
   "id": "c643e6cadfe90cfa"
  },
  {
   "cell_type": "code",
   "execution_count": 22,
   "outputs": [
    {
     "name": "stdout",
     "output_type": "stream",
     "text": [
      "Kitty\n",
      "Fido\n"
     ]
    }
   ],
   "source": [
    "for pet in Pet.select().join(Person).where(Person.name == 'Bob'):\n",
    "    print(pet.name)"
   ],
   "metadata": {
    "collapsed": false,
    "ExecuteTime": {
     "end_time": "2024-12-10T09:40:58.945004200Z",
     "start_time": "2024-12-10T09:40:58.928447100Z"
    }
   },
   "id": "6005d4eedad4e181"
  },
  {
   "cell_type": "code",
   "execution_count": 23,
   "outputs": [
    {
     "name": "stdout",
     "output_type": "stream",
     "text": [
      "Kitty\n",
      "Fido\n"
     ]
    }
   ],
   "source": [
    "for pet in Pet.select().where(Pet.owner == uncle_bob):\n",
    "    print(pet.name)"
   ],
   "metadata": {
    "collapsed": false,
    "ExecuteTime": {
     "end_time": "2024-12-10T09:41:17.161668100Z",
     "start_time": "2024-12-10T09:41:17.149848600Z"
    }
   },
   "id": "2d088f3e4a96cdea"
  },
  {
   "cell_type": "code",
   "execution_count": 24,
   "outputs": [
    {
     "name": "stdout",
     "output_type": "stream",
     "text": [
      "Fido\n",
      "Kitty\n"
     ]
    }
   ],
   "source": [
    "for pet in Pet.select().where(Pet.owner == uncle_bob).order_by(Pet.name):\n",
    "    print(pet.name)\n",
    "\n",
    "# prints:\n",
    "# Fido\n",
    "# Kitty"
   ],
   "metadata": {
    "collapsed": false,
    "ExecuteTime": {
     "end_time": "2024-12-10T09:41:32.179639600Z",
     "start_time": "2024-12-10T09:41:32.165758Z"
    }
   },
   "id": "4ca080e6cecb821"
  },
  {
   "cell_type": "code",
   "execution_count": 25,
   "outputs": [
    {
     "name": "stdout",
     "output_type": "stream",
     "text": [
      "Bob 1960-01-15\n",
      "Herb 1950-05-05\n",
      "Grandma L. 1935-03-01\n"
     ]
    }
   ],
   "source": [
    "for person in Person.select().order_by(Person.birthday.desc()):\n",
    "    print(person.name, person.birthday)\n",
    "\n",
    "# prints:\n",
    "# Bob 1960-01-15\n",
    "# Herb 1950-05-05\n",
    "# Grandma L. 1935-03-01"
   ],
   "metadata": {
    "collapsed": false,
    "ExecuteTime": {
     "end_time": "2024-12-10T09:41:41.506757600Z",
     "start_time": "2024-12-10T09:41:41.489751100Z"
    }
   },
   "id": "63d3cb897283f1f3"
  },
  {
   "cell_type": "code",
   "execution_count": 26,
   "outputs": [
    {
     "name": "stdout",
     "output_type": "stream",
     "text": [
      "Bob 1960-01-15\n",
      "Grandma L. 1935-03-01\n"
     ]
    }
   ],
   "source": [
    "d1940 = date(1940, 1, 1)\n",
    "d1960 = date(1960, 1, 1)\n",
    "query = (Person\n",
    "         .select()\n",
    "         .where((Person.birthday < d1940) | (Person.birthday > d1960)))\n",
    "\n",
    "for person in query:\n",
    "    print(person.name, person.birthday)\n",
    "\n",
    "# prints:\n",
    "# Bob 1960-01-15\n",
    "# Grandma L. 1935-03-01"
   ],
   "metadata": {
    "collapsed": false,
    "ExecuteTime": {
     "end_time": "2024-12-10T09:42:24.029274200Z",
     "start_time": "2024-12-10T09:42:24.012812700Z"
    }
   },
   "id": "c983d7e51a5c52a6"
  },
  {
   "cell_type": "code",
   "execution_count": 27,
   "outputs": [
    {
     "name": "stdout",
     "output_type": "stream",
     "text": [
      "Herb 1950-05-05\n"
     ]
    }
   ],
   "source": [
    "query = (Person\n",
    "         .select()\n",
    "         .where(Person.birthday.between(d1940, d1960)))\n",
    "\n",
    "for person in query:\n",
    "    print(person.name, person.birthday)\n",
    "\n",
    "# prints:\n",
    "# Herb 1950-05-05"
   ],
   "metadata": {
    "collapsed": false,
    "ExecuteTime": {
     "end_time": "2024-12-10T09:42:32.792789200Z",
     "start_time": "2024-12-10T09:42:32.775686800Z"
    }
   },
   "id": "92cf3a698935c74d"
  },
  {
   "cell_type": "code",
   "execution_count": 28,
   "outputs": [
    {
     "name": "stdout",
     "output_type": "stream",
     "text": [
      "Bob 2 pets\n",
      "Grandma L. 0 pets\n",
      "Herb 1 pets\n"
     ]
    }
   ],
   "source": [
    "for person in Person.select():\n",
    "    print(person.name, person.pets.count(), 'pets')\n",
    "\n",
    "# prints:\n",
    "# Bob 2 pets\n",
    "# Grandma L. 0 pets\n",
    "# Herb 1 pets"
   ],
   "metadata": {
    "collapsed": false,
    "ExecuteTime": {
     "end_time": "2024-12-10T09:42:42.598378900Z",
     "start_time": "2024-12-10T09:42:42.542635400Z"
    }
   },
   "id": "e502ae30dff06b2c"
  },
  {
   "cell_type": "code",
   "execution_count": 29,
   "outputs": [],
   "source": [
    "query = (Person\n",
    "         .select(Person, fn.COUNT(Pet.id).alias('pet_count'))\n",
    "         .join(Pet, JOIN.LEFT_OUTER)  # include people without pets.\n",
    "         .group_by(Person)\n",
    "         .order_by(Person.name))\n"
   ],
   "metadata": {
    "collapsed": false,
    "ExecuteTime": {
     "end_time": "2024-12-10T09:47:49.061604700Z",
     "start_time": "2024-12-10T09:47:49.056924400Z"
    }
   },
   "id": "c70857a0db9f95ee"
  },
  {
   "cell_type": "code",
   "execution_count": 30,
   "outputs": [
    {
     "data": {
      "text/plain": "<peewee.ModelSelect at 0x272d0f71630>"
     },
     "execution_count": 30,
     "metadata": {},
     "output_type": "execute_result"
    }
   ],
   "source": [
    "query"
   ],
   "metadata": {
    "collapsed": false,
    "ExecuteTime": {
     "end_time": "2024-12-10T09:47:51.914724300Z",
     "start_time": "2024-12-10T09:47:51.881344900Z"
    }
   },
   "id": "ed535b28d05686bf"
  },
  {
   "cell_type": "code",
   "execution_count": 31,
   "outputs": [
    {
     "name": "stdout",
     "output_type": "stream",
     "text": [
      "Bob 2 pets\n",
      "Grandma L. 0 pets\n",
      "Herb 1 pets\n"
     ]
    }
   ],
   "source": [
    "for person in query:\n",
    "    # \"pet_count\" becomes an attribute on the returned model instances.\n",
    "    print(person.name, person.pet_count, 'pets')"
   ],
   "metadata": {
    "collapsed": false,
    "ExecuteTime": {
     "end_time": "2024-12-10T09:48:09.018455200Z",
     "start_time": "2024-12-10T09:48:09.011171700Z"
    }
   },
   "id": "55577b66c854a108"
  },
  {
   "cell_type": "code",
   "execution_count": 32,
   "outputs": [
    {
     "name": "stdout",
     "output_type": "stream",
     "text": [
      "Bob Fido\n",
      "Bob Kitty\n",
      "Grandma L. no pets\n",
      "Herb Mittens Jr\n"
     ]
    }
   ],
   "source": [
    "query = (Person\n",
    "         .select(Person, Pet)\n",
    "         .join(Pet, JOIN.LEFT_OUTER)\n",
    "         .order_by(Person.name, Pet.name))\n",
    "for person in query:\n",
    "    # We need to check if they have a pet instance attached, since not all\n",
    "    # people have pets.\n",
    "    if hasattr(person, 'pet'):\n",
    "        print(person.name, person.pet.name)\n",
    "    else:\n",
    "        print(person.name, 'no pets')\n",
    "\n",
    "# prints:\n",
    "# Bob Fido\n",
    "# Bob Kitty\n",
    "# Grandma L. no pets\n",
    "# Herb Mittens Jr"
   ],
   "metadata": {
    "collapsed": false,
    "ExecuteTime": {
     "end_time": "2024-12-10T09:52:00.592108300Z",
     "start_time": "2024-12-10T09:52:00.582133400Z"
    }
   },
   "id": "6add35d180283170"
  },
  {
   "cell_type": "code",
   "execution_count": 1,
   "outputs": [
    {
     "name": "stdout",
     "output_type": "stream",
     "text": [
      "12345\n"
     ]
    }
   ],
   "source": [
    "print(12345)"
   ],
   "metadata": {
    "collapsed": false,
    "ExecuteTime": {
     "end_time": "2024-12-10T12:47:26.419281700Z",
     "start_time": "2024-12-10T12:47:26.407386100Z"
    }
   },
   "id": "8ed8550f7ce7bce5"
  },
  {
   "cell_type": "code",
   "execution_count": 2,
   "outputs": [],
   "source": [],
   "metadata": {
    "collapsed": false,
    "ExecuteTime": {
     "end_time": "2024-12-10T09:54:12.949482400Z",
     "start_time": "2024-12-10T09:54:12.939472600Z"
    }
   },
   "id": "88d797aae4da1ea3"
  },
  {
   "cell_type": "code",
   "execution_count": 2,
   "outputs": [],
   "source": [],
   "metadata": {
    "collapsed": false,
    "ExecuteTime": {
     "end_time": "2024-12-10T09:54:13.104510400Z",
     "start_time": "2024-12-10T09:54:13.094984700Z"
    }
   },
   "id": "f5afd54c3820f7e6"
  },
  {
   "cell_type": "code",
   "execution_count": 2,
   "outputs": [],
   "source": [],
   "metadata": {
    "collapsed": false,
    "ExecuteTime": {
     "end_time": "2024-12-10T09:54:13.284715Z",
     "start_time": "2024-12-10T09:54:13.275735500Z"
    }
   },
   "id": "177cf51e43c49dcb"
  },
  {
   "cell_type": "code",
   "execution_count": 5,
   "outputs": [],
   "source": [],
   "metadata": {
    "collapsed": false,
    "ExecuteTime": {
     "end_time": "2024-12-10T09:54:39.541165100Z",
     "start_time": "2024-12-10T09:54:39.536867200Z"
    }
   },
   "id": "440f6079a50dfa03"
  },
  {
   "cell_type": "code",
   "execution_count": 5,
   "outputs": [],
   "source": [],
   "metadata": {
    "collapsed": false,
    "ExecuteTime": {
     "end_time": "2024-12-10T09:54:37.695868300Z",
     "start_time": "2024-12-10T09:54:37.692861500Z"
    }
   },
   "id": "f29337208ecc89e3"
  },
  {
   "cell_type": "code",
   "execution_count": null,
   "outputs": [],
   "source": [],
   "metadata": {
    "collapsed": false
   },
   "id": "e687e82d6d72de56"
  }
 ],
 "metadata": {
  "kernelspec": {
   "display_name": "Python 3",
   "language": "python",
   "name": "python3"
  },
  "language_info": {
   "codemirror_mode": {
    "name": "ipython",
    "version": 2
   },
   "file_extension": ".py",
   "mimetype": "text/x-python",
   "name": "python",
   "nbconvert_exporter": "python",
   "pygments_lexer": "ipython2",
   "version": "2.7.6"
  }
 },
 "nbformat": 4,
 "nbformat_minor": 5
}
